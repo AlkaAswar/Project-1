{
 "cells": [
  {
   "cell_type": "code",
   "execution_count": 1,
   "id": "67f5116a",
   "metadata": {},
   "outputs": [
    {
     "name": "stdout",
     "output_type": "stream",
     "text": [
      "Enter a string: FC Barcelona\n",
      "Enter the character to count: 5\n",
      "The character '5' appears 0 times in the string.\n"
     ]
    }
   ],
   "source": [
    "def count_character(string, char):\n",
    "    count = 0\n",
    "    for c in string:\n",
    "        if c == char:\n",
    "            count += 1\n",
    "    return count\n",
    "\n",
    "# Example usage:\n",
    "input_string = input(\"Enter a string: \")\n",
    "character_to_count = input(\"Enter the character to count: \")\n",
    "\n",
    "result = count_character(input_string, character_to_count)\n",
    "print(f\"The character '{character_to_count}' appears {result} times in the string.\")"
   ]
  },
  {
   "cell_type": "code",
   "execution_count": 3,
   "id": "98ffde4a",
   "metadata": {},
   "outputs": [
    {
     "name": "stdout",
     "output_type": "stream",
     "text": [
      "Enter a string: Football is love\n",
      "Reversed string: love is Football\n"
     ]
    }
   ],
   "source": [
    "def reverse_words(string):\n",
    "    words = string.split()  # Split the string into words\n",
    "    reversed_string = ' '.join(reversed(words))  # Reverse the order of words and join them back into a string\n",
    "    return reversed_string\n",
    "\n",
    "# Example usage:\n",
    "input_string = input(\"Enter a string: \")\n",
    "reversed_string = reverse_words(input_string)\n",
    "print(\"Reversed string:\", reversed_string)"
   ]
  },
  {
   "cell_type": "code",
   "execution_count": 5,
   "id": "ee839f24",
   "metadata": {},
   "outputs": [
    {
     "name": "stdout",
     "output_type": "stream",
     "text": [
      "Enter a number: 6587\n",
      "The last digit of the number is: 7\n"
     ]
    }
   ],
   "source": [
    "def last_digit(number):\n",
    "    return abs(number) % 10  # Using modulo operator to get the last digit\n",
    "\n",
    "# Example usage:\n",
    "input_number = int(input(\"Enter a number: \"))\n",
    "result = last_digit(input_number)\n",
    "print(\"The last digit of the number is:\", result)"
   ]
  },
  {
   "cell_type": "code",
   "execution_count": 6,
   "id": "16d57d3f",
   "metadata": {},
   "outputs": [
    {
     "name": "stdout",
     "output_type": "stream",
     "text": [
      "Enter a string: 56PL876\n",
      "The string does not contain only numbers.\n"
     ]
    }
   ],
   "source": [
    "def contains_only_numbers(string):\n",
    "    return string.isdigit()\n",
    "\n",
    "# Example usage:\n",
    "input_string = input(\"Enter a string: \")\n",
    "if contains_only_numbers(input_string):\n",
    "    print(\"The string contains only numbers.\")\n",
    "else:\n",
    "    print(\"The string does not contain only numbers.\")"
   ]
  },
  {
   "cell_type": "code",
   "execution_count": 9,
   "id": "62a6b163",
   "metadata": {},
   "outputs": [
    {
     "name": "stdout",
     "output_type": "stream",
     "text": [
      "Enter a string: Kolkata\n",
      "Enter the delimiter: 1\n",
      "Result after split and join: Kolkata\n"
     ]
    }
   ],
   "source": [
    "def split_and_join(string, delimiter):\n",
    "    # Split the string into a list of substrings\n",
    "    substrings = string.split(delimiter)\n",
    "    # Join the substrings back into a single string\n",
    "    joined_string = delimiter.join(substrings)\n",
    "    return joined_string\n",
    "\n",
    "# Example usage:\n",
    "input_string = input(\"Enter a string: \")\n",
    "delimiter = input(\"Enter the delimiter: \")\n",
    "\n",
    "result = split_and_join(input_string, delimiter)\n",
    "print(\"Result after split and join:\", result)"
   ]
  },
  {
   "cell_type": "code",
   "execution_count": 10,
   "id": "977a7206",
   "metadata": {},
   "outputs": [
    {
     "name": "stdout",
     "output_type": "stream",
     "text": [
      "Enter distance in kilometers: 658\n",
      "658.0 kilometers is equal to 408.862118 miles.\n"
     ]
    }
   ],
   "source": [
    "def km_to_miles(km):\n",
    "    # 1 kilometer is equal to 0.621371 miles\n",
    "    miles = km * 0.621371\n",
    "    return miles\n",
    "\n",
    "# Example usage:\n",
    "kilometers = float(input(\"Enter distance in kilometers: \"))\n",
    "miles = km_to_miles(kilometers)\n",
    "print(f\"{kilometers} kilometers is equal to {miles} miles.\")"
   ]
  },
  {
   "cell_type": "code",
   "execution_count": 11,
   "id": "7b1a90d8",
   "metadata": {},
   "outputs": [
    {
     "name": "stdout",
     "output_type": "stream",
     "text": [
      "x is not equal to y\n",
      "The strings are not equal\n",
      "The number is not equal to zero\n"
     ]
    }
   ],
   "source": [
    "# Examples of using the != operator\n",
    "x = 5\n",
    "y = 10\n",
    "\n",
    "# Check if x is not equal to y\n",
    "if x != y:\n",
    "    print(\"x is not equal to y\")\n",
    "\n",
    "# Check if two strings are not equal\n",
    "string1 = \"hello\"\n",
    "string2 = \"world\"\n",
    "if string1 != string2:\n",
    "    print(\"The strings are not equal\")\n",
    "\n",
    "# Check if a number is not equal to zero\n",
    "number = -5\n",
    "if number != 0:\n",
    "    print(\"The number is not equal to zero\")"
   ]
  },
  {
   "cell_type": "code",
   "execution_count": 12,
   "id": "33c9076d",
   "metadata": {},
   "outputs": [
    {
     "name": "stdout",
     "output_type": "stream",
     "text": [
      "Original string: Skill5Lync\n",
      "Modified string: Skill-Lync\n"
     ]
    }
   ],
   "source": [
    "def replace_char_at_index(input_str, index, replacement):\n",
    "    if index < 0 or index >= len(input_str):\n",
    "        return \"Invalid index\"\n",
    "    else:\n",
    "        return input_str[:index] + replacement + input_str[index + 1:]\n",
    "\n",
    "# Test string\n",
    "test_str = 'Skill5Lync'\n",
    "\n",
    "# Index to replace 'K' with '-'\n",
    "index_to_replace = 5\n",
    "\n",
    "# Replace 'K' with '-'\n",
    "modified_str = replace_char_at_index(test_str, index_to_replace, '-')\n",
    "\n",
    "print(\"Original string:\", test_str)\n",
    "print(\"Modified string:\", modified_str)"
   ]
  },
  {
   "cell_type": "code",
   "execution_count": null,
   "id": "3ee4c9a5",
   "metadata": {},
   "outputs": [],
   "source": []
  }
 ],
 "metadata": {
  "kernelspec": {
   "display_name": "Python 3 (ipykernel)",
   "language": "python",
   "name": "python3"
  },
  "language_info": {
   "codemirror_mode": {
    "name": "ipython",
    "version": 3
   },
   "file_extension": ".py",
   "mimetype": "text/x-python",
   "name": "python",
   "nbconvert_exporter": "python",
   "pygments_lexer": "ipython3",
   "version": "3.9.13"
  }
 },
 "nbformat": 4,
 "nbformat_minor": 5
}
